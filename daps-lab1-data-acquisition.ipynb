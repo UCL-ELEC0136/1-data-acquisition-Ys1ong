{
 "cells": [
  {
   "cell_type": "markdown",
   "metadata": {
    "id": "jenv-YgSElT1"
   },
   "source": [
    "# Task 1: Small case scenario of dataset analysis"
   ]
  },
  {
   "cell_type": "markdown",
   "metadata": {
    "id": "pZ6YahZgAZvB"
   },
   "source": [
    "## 1.1 - Create a dataset (The Tate Collection)\n",
    "As a first example, we will create our own small dataset. In particular, the dataset will consist of 10 artists which are present in the Tate Collection along with the corresponding year of birth, year of death, biological gender and number of artworks.\n",
    "\n",
    "|          Name         | Gender |   Year_Birth  |   Year_Death  | N_works |\n",
    "|-----------------------|--------|---------------|---------------|---------|\n",
    "|     Beuys, Joseph     |  Male  |      1921\t |      1986     |   588   |\n",
    "|    Constable, John    |  Male  |      1776\t |      1837\t |   249   |\n",
    "|   Daniell, William    |  Male  |      1769\t |      1837\t |   612   |\n",
    "|   Forbes, Elizabeth   | Female |      1859\t |      1912\t |   120   |\n",
    "|     Flaxman, John     |  Male  |      1755\t |      1826\t |   287   |\n",
    "|    Phillips, Thomas   |  Male  |      1770\t |      1845\t |   274   |\n",
    "| Paolozzi, Sir Eduardo |  Male  |      1924\t |      2005\t |   385   |\n",
    "|     Schendel, Mira    | Female |      1919\t |      1988\t |    3    |\n",
    "|    Turner, William    |  Male  |      1775\t |      1851\t |  1861   |\n",
    "|      Warhol, Andy     |  Male  |      1928\t |      1987\t |   272   |\n"
   ]
  },
  {
   "cell_type": "markdown",
   "metadata": {
    "id": "TV1sgIOzAZvD"
   },
   "source": [
    "**_[TO DO]_**: Let's create a DataFrame named **TateDataset** with the information showed in the above table.\n",
    "\n",
    "**Note:** You can create arrays for each column and then build the DataFrame.\n",
    "Remember to import the required libraries!"
   ]
  },
  {
   "cell_type": "code",
   "execution_count": 1,
   "metadata": {
    "cellView": "form",
    "executionInfo": {
     "elapsed": 428,
     "status": "ok",
     "timestamp": 1603899361329,
     "user": {
      "displayName": "Sephora Madjiheurem",
      "photoUrl": "https://lh3.googleusercontent.com/a-/AOh14GgieP2Hh5x42748iuuSEnAl8BYCWGSmOzJ-ypgSaQ=s64",
      "userId": "05055971560005673839"
     },
     "user_tz": 0
    },
    "id": "NxkzhjIGAZvF"
   },
   "outputs": [],
   "source": [
    "# @title Imports\n",
    "import numpy as np\n",
    "import pandas as pd"
   ]
  },
  {
   "cell_type": "code",
   "execution_count": 2,
   "metadata": {
    "id": "FWsJFvTQB3hX"
   },
   "outputs": [
    {
     "name": "stdout",
     "output_type": "stream",
     "text": [
      "                    Name  Gender  Year_Birth  Year_Death  N_works\n",
      "0          Beuys, Joseph    Male        1921        1986      588\n",
      "1        Constable, John    Male        1776        1837      249\n",
      "2       Daniell, William    Male        1769        1837      612\n",
      "3      Forbes, Elizabeth  Female        1859        1912      120\n",
      "4          Flaxman, John    Male        1755        1826      287\n",
      "5       Phillips, Thomas    Male        1770        1845      274\n",
      "6  Paolozzi, Sir Eduardo    Male        1924        2005      385\n",
      "7         Schendel, Mira  Female        1919        1988        3\n",
      "8        Turner, William    Male        1775        1851     1861\n",
      "9           Warhol, Andy    Male        1928        1987      272\n"
     ]
    }
   ],
   "source": [
    "### TODO\n",
    "Name = np.array([\"Beuys, Joseph\", \"Constable, John\", \"Daniell, William\", \"Forbes, Elizabeth\", \"Flaxman, John\", \"Phillips, Thomas\", \"Paolozzi, Sir Eduardo\", \"Schendel, Mira\", \"Turner, William\", \"Warhol, Andy\"])\n",
    "Gender = np.array([\"Male\", \"Male\", \"Male\", \"Female\", \"Male\", \"Male\", \"Male\", \"Female\", \"Male\", \"Male\"])\n",
    "Year_Birth = np.array([1921, 1776, 1769, 1859, 1755, 1770, 1924, 1919, 1775, 1928])\n",
    "Year_Death = np.array([1986, 1837, 1837, 1912, 1826, 1845, 2005, 1988, 1851, 1987])\n",
    "N_works = np.array([588, 249, 612, 120, 287, 274, 385, 3, 1861, 272])\n",
    "\n",
    "tate_dataset = pd.DataFrame({'Name': Name, 'Gender': Gender, 'Year_Birth': Year_Birth, 'Year_Death': Year_Death, 'N_works': N_works})\n",
    "print(tate_dataset)"
   ]
  },
  {
   "cell_type": "markdown",
   "metadata": {
    "id": "0P3DpT-VAZvO"
   },
   "source": [
    "## 1.2 - Data Acquisition (local file)\n",
    "\n",
    "Data acquisition is a process of loading and reading data from various sources. We will learn how to export and read data from a local file in different format using  **Pandas** package. \n",
    "\n",
    "A file format is a standardised way in which information is encoded to be stored in a file. Some examples of file formats are: CSV, XLSX, and PKL. \n",
    "\n",
    "Let's practice with some examples.\n",
    "\n",
    "### .CSV - Comma Separated Values\n",
    "\n",
    "CSV is one of the most popular spreadsheet file format. In this kind of file, data is stored in cells. Each cell is organized in rows and columns. A column in the spreadsheet file can have different types. \n",
    "\n",
    "Let us look at how to create a CSV file. We can export a DataFrame with the Pandas function `to_csv()`. The file will be saved in the same location of this notebook unless specified otherwise. We can name the file **TateData.csv**.\n",
    "\n",
    "**Note:** Once you have run the following cell, check the output file ."
   ]
  },
  {
   "cell_type": "code",
   "execution_count": 3,
   "metadata": {
    "id": "DcFThhwRAZvP"
   },
   "outputs": [],
   "source": [
    "tate_dataset.to_csv('tate_dataset.csv', index=False, header=True)"
   ]
  },
  {
   "cell_type": "markdown",
   "metadata": {
    "id": "54BZQJs8AZvU"
   },
   "source": [
    "To pull in the csv file, we will use the Pandas function `read_csv()`. We will import the previous file in a new DataFrame.\n",
    "\n",
    "**Note:**  Depending on where you save your notebooks, you may need to modify the location below."
   ]
  },
  {
   "cell_type": "code",
   "execution_count": 4,
   "metadata": {
    "id": "PcO3epU5AZvV"
   },
   "outputs": [
    {
     "data": {
      "text/html": [
       "<div>\n",
       "<style scoped>\n",
       "    .dataframe tbody tr th:only-of-type {\n",
       "        vertical-align: middle;\n",
       "    }\n",
       "\n",
       "    .dataframe tbody tr th {\n",
       "        vertical-align: top;\n",
       "    }\n",
       "\n",
       "    .dataframe thead th {\n",
       "        text-align: right;\n",
       "    }\n",
       "</style>\n",
       "<table border=\"1\" class=\"dataframe\">\n",
       "  <thead>\n",
       "    <tr style=\"text-align: right;\">\n",
       "      <th></th>\n",
       "      <th>Name</th>\n",
       "      <th>Gender</th>\n",
       "      <th>Year_Birth</th>\n",
       "      <th>Year_Death</th>\n",
       "      <th>N_works</th>\n",
       "    </tr>\n",
       "  </thead>\n",
       "  <tbody>\n",
       "    <tr>\n",
       "      <th>0</th>\n",
       "      <td>Beuys, Joseph</td>\n",
       "      <td>Male</td>\n",
       "      <td>1921</td>\n",
       "      <td>1986</td>\n",
       "      <td>588</td>\n",
       "    </tr>\n",
       "    <tr>\n",
       "      <th>1</th>\n",
       "      <td>Constable, John</td>\n",
       "      <td>Male</td>\n",
       "      <td>1776</td>\n",
       "      <td>1837</td>\n",
       "      <td>249</td>\n",
       "    </tr>\n",
       "    <tr>\n",
       "      <th>2</th>\n",
       "      <td>Daniell, William</td>\n",
       "      <td>Male</td>\n",
       "      <td>1769</td>\n",
       "      <td>1837</td>\n",
       "      <td>612</td>\n",
       "    </tr>\n",
       "    <tr>\n",
       "      <th>3</th>\n",
       "      <td>Forbes, Elizabeth</td>\n",
       "      <td>Female</td>\n",
       "      <td>1859</td>\n",
       "      <td>1912</td>\n",
       "      <td>120</td>\n",
       "    </tr>\n",
       "    <tr>\n",
       "      <th>4</th>\n",
       "      <td>Flaxman, John</td>\n",
       "      <td>Male</td>\n",
       "      <td>1755</td>\n",
       "      <td>1826</td>\n",
       "      <td>287</td>\n",
       "    </tr>\n",
       "    <tr>\n",
       "      <th>5</th>\n",
       "      <td>Phillips, Thomas</td>\n",
       "      <td>Male</td>\n",
       "      <td>1770</td>\n",
       "      <td>1845</td>\n",
       "      <td>274</td>\n",
       "    </tr>\n",
       "    <tr>\n",
       "      <th>6</th>\n",
       "      <td>Paolozzi, Sir Eduardo</td>\n",
       "      <td>Male</td>\n",
       "      <td>1924</td>\n",
       "      <td>2005</td>\n",
       "      <td>385</td>\n",
       "    </tr>\n",
       "    <tr>\n",
       "      <th>7</th>\n",
       "      <td>Schendel, Mira</td>\n",
       "      <td>Female</td>\n",
       "      <td>1919</td>\n",
       "      <td>1988</td>\n",
       "      <td>3</td>\n",
       "    </tr>\n",
       "    <tr>\n",
       "      <th>8</th>\n",
       "      <td>Turner, William</td>\n",
       "      <td>Male</td>\n",
       "      <td>1775</td>\n",
       "      <td>1851</td>\n",
       "      <td>1861</td>\n",
       "    </tr>\n",
       "    <tr>\n",
       "      <th>9</th>\n",
       "      <td>Warhol, Andy</td>\n",
       "      <td>Male</td>\n",
       "      <td>1928</td>\n",
       "      <td>1987</td>\n",
       "      <td>272</td>\n",
       "    </tr>\n",
       "  </tbody>\n",
       "</table>\n",
       "</div>"
      ],
      "text/plain": [
       "                    Name  Gender  Year_Birth  Year_Death  N_works\n",
       "0          Beuys, Joseph    Male        1921        1986      588\n",
       "1        Constable, John    Male        1776        1837      249\n",
       "2       Daniell, William    Male        1769        1837      612\n",
       "3      Forbes, Elizabeth  Female        1859        1912      120\n",
       "4          Flaxman, John    Male        1755        1826      287\n",
       "5       Phillips, Thomas    Male        1770        1845      274\n",
       "6  Paolozzi, Sir Eduardo    Male        1924        2005      385\n",
       "7         Schendel, Mira  Female        1919        1988        3\n",
       "8        Turner, William    Male        1775        1851     1861\n",
       "9           Warhol, Andy    Male        1928        1987      272"
      ]
     },
     "execution_count": 4,
     "metadata": {},
     "output_type": "execute_result"
    }
   ],
   "source": [
    "tate_1 = pd.read_csv('tate_dataset.csv')\n",
    "tate_1"
   ]
  },
  {
   "cell_type": "markdown",
   "metadata": {
    "id": "1CmXNd9jAZva"
   },
   "source": [
    "When we create the .CSV file, the only parameter we have used is **index**. \n",
    "\n",
    "**[TO DO]** What happens if we set the *index* parameter to True? And if you set also the parameter **header** to False?\n",
    "Try by yourself. "
   ]
  },
  {
   "cell_type": "code",
   "execution_count": 5,
   "metadata": {
    "id": "egR7HZLaAZvb"
   },
   "outputs": [
    {
     "data": {
      "text/html": [
       "<div>\n",
       "<style scoped>\n",
       "    .dataframe tbody tr th:only-of-type {\n",
       "        vertical-align: middle;\n",
       "    }\n",
       "\n",
       "    .dataframe tbody tr th {\n",
       "        vertical-align: top;\n",
       "    }\n",
       "\n",
       "    .dataframe thead th {\n",
       "        text-align: right;\n",
       "    }\n",
       "</style>\n",
       "<table border=\"1\" class=\"dataframe\">\n",
       "  <thead>\n",
       "    <tr style=\"text-align: right;\">\n",
       "      <th></th>\n",
       "      <th>Unnamed: 0</th>\n",
       "      <th>Name</th>\n",
       "      <th>Gender</th>\n",
       "      <th>Year_Birth</th>\n",
       "      <th>Year_Death</th>\n",
       "      <th>N_works</th>\n",
       "    </tr>\n",
       "  </thead>\n",
       "  <tbody>\n",
       "    <tr>\n",
       "      <th>0</th>\n",
       "      <td>0</td>\n",
       "      <td>Beuys, Joseph</td>\n",
       "      <td>Male</td>\n",
       "      <td>1921</td>\n",
       "      <td>1986</td>\n",
       "      <td>588</td>\n",
       "    </tr>\n",
       "    <tr>\n",
       "      <th>1</th>\n",
       "      <td>1</td>\n",
       "      <td>Constable, John</td>\n",
       "      <td>Male</td>\n",
       "      <td>1776</td>\n",
       "      <td>1837</td>\n",
       "      <td>249</td>\n",
       "    </tr>\n",
       "    <tr>\n",
       "      <th>2</th>\n",
       "      <td>2</td>\n",
       "      <td>Daniell, William</td>\n",
       "      <td>Male</td>\n",
       "      <td>1769</td>\n",
       "      <td>1837</td>\n",
       "      <td>612</td>\n",
       "    </tr>\n",
       "    <tr>\n",
       "      <th>3</th>\n",
       "      <td>3</td>\n",
       "      <td>Forbes, Elizabeth</td>\n",
       "      <td>Female</td>\n",
       "      <td>1859</td>\n",
       "      <td>1912</td>\n",
       "      <td>120</td>\n",
       "    </tr>\n",
       "    <tr>\n",
       "      <th>4</th>\n",
       "      <td>4</td>\n",
       "      <td>Flaxman, John</td>\n",
       "      <td>Male</td>\n",
       "      <td>1755</td>\n",
       "      <td>1826</td>\n",
       "      <td>287</td>\n",
       "    </tr>\n",
       "    <tr>\n",
       "      <th>5</th>\n",
       "      <td>5</td>\n",
       "      <td>Phillips, Thomas</td>\n",
       "      <td>Male</td>\n",
       "      <td>1770</td>\n",
       "      <td>1845</td>\n",
       "      <td>274</td>\n",
       "    </tr>\n",
       "    <tr>\n",
       "      <th>6</th>\n",
       "      <td>6</td>\n",
       "      <td>Paolozzi, Sir Eduardo</td>\n",
       "      <td>Male</td>\n",
       "      <td>1924</td>\n",
       "      <td>2005</td>\n",
       "      <td>385</td>\n",
       "    </tr>\n",
       "    <tr>\n",
       "      <th>7</th>\n",
       "      <td>7</td>\n",
       "      <td>Schendel, Mira</td>\n",
       "      <td>Female</td>\n",
       "      <td>1919</td>\n",
       "      <td>1988</td>\n",
       "      <td>3</td>\n",
       "    </tr>\n",
       "    <tr>\n",
       "      <th>8</th>\n",
       "      <td>8</td>\n",
       "      <td>Turner, William</td>\n",
       "      <td>Male</td>\n",
       "      <td>1775</td>\n",
       "      <td>1851</td>\n",
       "      <td>1861</td>\n",
       "    </tr>\n",
       "    <tr>\n",
       "      <th>9</th>\n",
       "      <td>9</td>\n",
       "      <td>Warhol, Andy</td>\n",
       "      <td>Male</td>\n",
       "      <td>1928</td>\n",
       "      <td>1987</td>\n",
       "      <td>272</td>\n",
       "    </tr>\n",
       "  </tbody>\n",
       "</table>\n",
       "</div>"
      ],
      "text/plain": [
       "   Unnamed: 0                   Name  Gender  Year_Birth  Year_Death  N_works\n",
       "0           0          Beuys, Joseph    Male        1921        1986      588\n",
       "1           1        Constable, John    Male        1776        1837      249\n",
       "2           2       Daniell, William    Male        1769        1837      612\n",
       "3           3      Forbes, Elizabeth  Female        1859        1912      120\n",
       "4           4          Flaxman, John    Male        1755        1826      287\n",
       "5           5       Phillips, Thomas    Male        1770        1845      274\n",
       "6           6  Paolozzi, Sir Eduardo    Male        1924        2005      385\n",
       "7           7         Schendel, Mira  Female        1919        1988        3\n",
       "8           8        Turner, William    Male        1775        1851     1861\n",
       "9           9           Warhol, Andy    Male        1928        1987      272"
      ]
     },
     "execution_count": 5,
     "metadata": {},
     "output_type": "execute_result"
    }
   ],
   "source": [
    "### TODO\n",
    "tate_dataset.to_csv('tate_dataset.csv', index=True, header=True)\n",
    "tate_1 = pd.read_csv('tate_dataset.csv')\n",
    "tate_1"
   ]
  },
  {
   "cell_type": "markdown",
   "metadata": {
    "id": "0tHt7lPFAZvf"
   },
   "source": [
    "Delete the csv file now that we are done using it."
   ]
  },
  {
   "cell_type": "markdown",
   "metadata": {
    "id": "oQLf1Y_hAZvr"
   },
   "source": [
    "### pickle — Python object serialization\n",
    "\n",
    "This data format is Python-specific. This has the advantage that there are no restrictions imposed by external standards; however it means that non-Python programs may not be able to reconstruct pickled Python objects.\n",
    "\n"
   ]
  },
  {
   "cell_type": "code",
   "execution_count": 6,
   "metadata": {
    "id": "stKRPdBTAZvr"
   },
   "outputs": [],
   "source": [
    "import pickle\n",
    "\n",
    "tate_dataset.to_pickle('tate_dataset.pkl')\n"
   ]
  },
  {
   "cell_type": "code",
   "execution_count": 7,
   "metadata": {
    "id": "Rc7RsQeKAZvt"
   },
   "outputs": [
    {
     "data": {
      "text/html": [
       "<div>\n",
       "<style scoped>\n",
       "    .dataframe tbody tr th:only-of-type {\n",
       "        vertical-align: middle;\n",
       "    }\n",
       "\n",
       "    .dataframe tbody tr th {\n",
       "        vertical-align: top;\n",
       "    }\n",
       "\n",
       "    .dataframe thead th {\n",
       "        text-align: right;\n",
       "    }\n",
       "</style>\n",
       "<table border=\"1\" class=\"dataframe\">\n",
       "  <thead>\n",
       "    <tr style=\"text-align: right;\">\n",
       "      <th></th>\n",
       "      <th>Name</th>\n",
       "      <th>Gender</th>\n",
       "      <th>Year_Birth</th>\n",
       "      <th>Year_Death</th>\n",
       "      <th>N_works</th>\n",
       "    </tr>\n",
       "  </thead>\n",
       "  <tbody>\n",
       "    <tr>\n",
       "      <th>0</th>\n",
       "      <td>Beuys, Joseph</td>\n",
       "      <td>Male</td>\n",
       "      <td>1921</td>\n",
       "      <td>1986</td>\n",
       "      <td>588</td>\n",
       "    </tr>\n",
       "    <tr>\n",
       "      <th>1</th>\n",
       "      <td>Constable, John</td>\n",
       "      <td>Male</td>\n",
       "      <td>1776</td>\n",
       "      <td>1837</td>\n",
       "      <td>249</td>\n",
       "    </tr>\n",
       "    <tr>\n",
       "      <th>2</th>\n",
       "      <td>Daniell, William</td>\n",
       "      <td>Male</td>\n",
       "      <td>1769</td>\n",
       "      <td>1837</td>\n",
       "      <td>612</td>\n",
       "    </tr>\n",
       "    <tr>\n",
       "      <th>3</th>\n",
       "      <td>Forbes, Elizabeth</td>\n",
       "      <td>Female</td>\n",
       "      <td>1859</td>\n",
       "      <td>1912</td>\n",
       "      <td>120</td>\n",
       "    </tr>\n",
       "    <tr>\n",
       "      <th>4</th>\n",
       "      <td>Flaxman, John</td>\n",
       "      <td>Male</td>\n",
       "      <td>1755</td>\n",
       "      <td>1826</td>\n",
       "      <td>287</td>\n",
       "    </tr>\n",
       "    <tr>\n",
       "      <th>5</th>\n",
       "      <td>Phillips, Thomas</td>\n",
       "      <td>Male</td>\n",
       "      <td>1770</td>\n",
       "      <td>1845</td>\n",
       "      <td>274</td>\n",
       "    </tr>\n",
       "    <tr>\n",
       "      <th>6</th>\n",
       "      <td>Paolozzi, Sir Eduardo</td>\n",
       "      <td>Male</td>\n",
       "      <td>1924</td>\n",
       "      <td>2005</td>\n",
       "      <td>385</td>\n",
       "    </tr>\n",
       "    <tr>\n",
       "      <th>7</th>\n",
       "      <td>Schendel, Mira</td>\n",
       "      <td>Female</td>\n",
       "      <td>1919</td>\n",
       "      <td>1988</td>\n",
       "      <td>3</td>\n",
       "    </tr>\n",
       "    <tr>\n",
       "      <th>8</th>\n",
       "      <td>Turner, William</td>\n",
       "      <td>Male</td>\n",
       "      <td>1775</td>\n",
       "      <td>1851</td>\n",
       "      <td>1861</td>\n",
       "    </tr>\n",
       "    <tr>\n",
       "      <th>9</th>\n",
       "      <td>Warhol, Andy</td>\n",
       "      <td>Male</td>\n",
       "      <td>1928</td>\n",
       "      <td>1987</td>\n",
       "      <td>272</td>\n",
       "    </tr>\n",
       "  </tbody>\n",
       "</table>\n",
       "</div>"
      ],
      "text/plain": [
       "                    Name  Gender  Year_Birth  Year_Death  N_works\n",
       "0          Beuys, Joseph    Male        1921        1986      588\n",
       "1        Constable, John    Male        1776        1837      249\n",
       "2       Daniell, William    Male        1769        1837      612\n",
       "3      Forbes, Elizabeth  Female        1859        1912      120\n",
       "4          Flaxman, John    Male        1755        1826      287\n",
       "5       Phillips, Thomas    Male        1770        1845      274\n",
       "6  Paolozzi, Sir Eduardo    Male        1924        2005      385\n",
       "7         Schendel, Mira  Female        1919        1988        3\n",
       "8        Turner, William    Male        1775        1851     1861\n",
       "9           Warhol, Andy    Male        1928        1987      272"
      ]
     },
     "execution_count": 7,
     "metadata": {},
     "output_type": "execute_result"
    }
   ],
   "source": [
    "tate_2 = pd.read_pickle('tate_dataset.pkl')\n",
    "tate_2"
   ]
  },
  {
   "cell_type": "markdown",
   "metadata": {
    "id": "4vHSnaOQAZvv"
   },
   "source": [
    "## 1.3 - Look at the data\n",
    "\n",
    "Now we will simply have a look at the data and make sure it is clean. \n",
    "\n",
    "### Data type\n",
    "Let's check the data type of the imported variables and the original DataFrame."
   ]
  },
  {
   "cell_type": "code",
   "execution_count": 8,
   "metadata": {
    "id": "AV3eoT35AZvw"
   },
   "outputs": [
    {
     "data": {
      "text/plain": [
       "Unnamed: 0     int64\n",
       "Name          object\n",
       "Gender        object\n",
       "Year_Birth     int64\n",
       "Year_Death     int64\n",
       "N_works        int64\n",
       "dtype: object"
      ]
     },
     "execution_count": 8,
     "metadata": {},
     "output_type": "execute_result"
    }
   ],
   "source": [
    "# Check data type of the columns for Tate_1\n",
    "tate_1.dtypes"
   ]
  },
  {
   "cell_type": "code",
   "execution_count": 9,
   "metadata": {
    "id": "ACysmIDSAZvy"
   },
   "outputs": [
    {
     "data": {
      "text/plain": [
       "Name          object\n",
       "Gender        object\n",
       "Year_Birth     int32\n",
       "Year_Death     int32\n",
       "N_works        int32\n",
       "dtype: object"
      ]
     },
     "execution_count": 9,
     "metadata": {},
     "output_type": "execute_result"
    }
   ],
   "source": [
    "# Check data type of the columns for TateDataset\n",
    "tate_dataset.dtypes"
   ]
  },
  {
   "cell_type": "markdown",
   "metadata": {
    "id": "T3q0dEk0AZv0"
   },
   "source": [
    "We can also display the values of a single column and check their data type as follow:"
   ]
  },
  {
   "cell_type": "code",
   "execution_count": 10,
   "metadata": {
    "id": "zfMt0x2lAZv0"
   },
   "outputs": [
    {
     "data": {
      "text/plain": [
       "0      Male\n",
       "1      Male\n",
       "2      Male\n",
       "3    Female\n",
       "4      Male\n",
       "5      Male\n",
       "6      Male\n",
       "7    Female\n",
       "8      Male\n",
       "9      Male\n",
       "Name: Gender, dtype: object"
      ]
     },
     "execution_count": 10,
     "metadata": {},
     "output_type": "execute_result"
    }
   ],
   "source": [
    "tate_dataset['Gender']"
   ]
  },
  {
   "cell_type": "markdown",
   "metadata": {
    "id": "hympM9yTEuud"
   },
   "source": [
    "# Task 2: Application Programming Interfaces (APIs)"
   ]
  },
  {
   "cell_type": "markdown",
   "metadata": {
    "id": "vOGrvILtFv0K",
    "tags": []
   },
   "source": [
    "## 2.1 - Downloading climate data from the Internet\n",
    "\n",
    "We will now explore real world data, namely a dataset of climate information of 5 cities in Denmark between 1980-2018. The original raw-data was originally obtained from [National Climatic Data Center (NCDC)](https://www7.ncdc.noaa.gov/CDO/cdoselect.cmd).\n",
    "\n",
    "In particular, the selected cities in Denmark are:\n",
    "- Aalborg, \n",
    "- Aarhus, \n",
    "- Esbjerg, \n",
    "- Odense. \n",
    "- Roskilde\n",
    "\n",
    "In the following, we will download the dataset using an API instead of loading a local source file.\n",
    "\n",
    "### What is an API? \n",
    "Application Programming Interface (API) is a communication protocol between the user and the server (i.e., web server) that enables transmittion of data. The user making a request to an API server can download the desidered resources. \n",
    "\n",
    "### How to make a request in python?\n",
    "There are many different way to request data. \n",
    "In the following, we will use the package **urllib** that collects several modules for working with URLs.\n",
    "\n",
    "In particular, [urlib.request](https://docs.python.org/3/library/urllib.request.html#module-urllib.request) is a module for opening and reading URLs.\n"
   ]
  },
  {
   "cell_type": "markdown",
   "metadata": {
    "id": "DiwhudMrKQUP"
   },
   "source": [
    "### - Download climate data\n",
    "\n",
    "\n",
    "The following functions allow to download and store the dataset in a specific folder.\n",
    "\n",
    "How to use:\n",
    "\n",
    "- Set the source (i.e., URL) of the desidered dataset in `data_url`.\n",
    "- Set the `data_dir` variable with the local directory where to store the data.\n",
    "- Call `download_and_extract()` to download the dataset if it is not already located in the given data_dir.\n",
    "- Load the data in the interactive Python notebook so ic can be used in your scripts (you can use `load_original_data()`)."
   ]
  },
  {
   "cell_type": "code",
   "execution_count": 11,
   "metadata": {
    "cellView": "form",
    "id": "DjVqxHOLE6I4"
   },
   "outputs": [],
   "source": [
    "#@title Functions to download data \n",
    "########################################################################\n",
    "#\n",
    "# This file is a partially modified version of one of the TensorFlow Tutorials available at:\n",
    "#\n",
    "# https://github.com/Hvass-Labs/TensorFlow-Tutorials\n",
    "#\n",
    "# Published under the MIT License. See the file LICENSE for details.\n",
    "#\n",
    "# Copyright 2018 by Magnus Erik Hvass Pedersen\n",
    "#\n",
    "########################################################################\n",
    "\n",
    "import sys\n",
    "import os\n",
    "import urllib.request\n",
    "import tarfile\n",
    "import zipfile\n",
    "\n",
    "\n",
    "\n",
    "def _print_download_progress(count, block_size, total_size):\n",
    "    \"\"\"\n",
    "    Function used for printing the download progress.\n",
    "    Used as a call-back function in maybe_download_and_extract().\n",
    "    \"\"\"\n",
    "\n",
    "    # Percentage completion.\n",
    "    pct_complete = float(count * block_size) / total_size\n",
    "\n",
    "    # Limit it because rounding errors may cause it to exceed 100%.\n",
    "    pct_complete = min(1.0, pct_complete)\n",
    "\n",
    "    # Status-message. Note the \\r which means the line should overwrite itself.\n",
    "    msg = \"\\r- Download progress: {0:.1%}\".format(pct_complete)\n",
    "\n",
    "    # Print it.\n",
    "    sys.stdout.write(msg)\n",
    "    sys.stdout.flush()\n",
    "\n",
    "\n",
    "def download(base_url, filename, download_dir):\n",
    "    \"\"\"\n",
    "    Download the given file if it does not already exist in the download_dir.\n",
    "    :param base_url: The internet URL without the filename.\n",
    "    :param filename: The filename that will be added to the base_url.\n",
    "    :param download_dir: Local directory for storing the file.\n",
    "    \"\"\"\n",
    "\n",
    "    # Path for local file.\n",
    "    save_path = os.path.join(download_dir, filename)\n",
    "\n",
    "    # Check if the file already exists, otherwise we need to download it now.\n",
    "    if not os.path.exists(save_path):\n",
    "        # Check if the download directory exists, otherwise create it.\n",
    "        if not os.path.exists(download_dir):\n",
    "            os.makedirs(download_dir)\n",
    "\n",
    "        print(\"Downloading\", filename, \"...\")\n",
    "\n",
    "        # Download the file from the internet.\n",
    "        url = base_url + filename\n",
    "        file_path, _ = urllib.request.urlretrieve(url=url,\n",
    "                                                  filename=save_path,\n",
    "                                                  reporthook=_print_download_progress)\n",
    "\n",
    "        print(\" Done!\")\n",
    "\n",
    "\n",
    "def download_and_extract(url, download_dir):\n",
    "    \"\"\"\n",
    "    Download and extract the data if it doesn't already exist.\n",
    "    Assumes the url is a tar-ball file.\n",
    "    :param url:\n",
    "        Internet URL for the tar-file to download.\n",
    "    :param download_dir:\n",
    "        Directory where the downloaded file is saved.\n",
    "    \"\"\"\n",
    "\n",
    "    # Filename for saving the file downloaded from the internet.\n",
    "    # Use the filename from the URL and add it to the download_dir.\n",
    "    filename = url.split('/')[-1]\n",
    "    file_path = os.path.join(download_dir, filename)\n",
    "\n",
    "    # Check if the file already exists.\n",
    "    # If it exists then we assume it has also been extracted,\n",
    "    # otherwise we need to download and extract it now.\n",
    "    if not os.path.exists(file_path):\n",
    "        # Check if the download directory exists, otherwise create it.\n",
    "        if not os.path.exists(download_dir):\n",
    "            os.makedirs(download_dir)\n",
    "\n",
    "        # Download the file from the internet.\n",
    "        file_path, _ = urllib.request.urlretrieve(url=url,\n",
    "                                                  filename=file_path,\n",
    "                                                  reporthook=_print_download_progress)\n",
    "\n",
    "        print()\n",
    "        print(\"Download finished. Extracting files.\")\n",
    "\n",
    "        if file_path.endswith(\".zip\"):\n",
    "            # Unpack the zip-file.\n",
    "            zipfile.ZipFile(file=file_path, mode=\"r\").extractall(download_dir)\n",
    "        elif file_path.endswith((\".tar.gz\", \".tgz\")):\n",
    "            # Unpack the tar-ball.\n",
    "            tarfile.open(name=file_path, mode=\"r:gz\").extractall(download_dir)\n",
    "\n",
    "        print(\"Done.\")\n",
    "    else:\n",
    "        print(\"Data has apparently already been downloaded and unpacked.\")\n",
    "        "
   ]
  },
  {
   "cell_type": "markdown",
   "metadata": {
    "id": "jhAOVRKTclRR"
   },
   "source": [
    "First, we define where we want to download the dataset (you are free to choose another directory) and the URL of the dataset to be downloaded."
   ]
  },
  {
   "cell_type": "code",
   "execution_count": 12,
   "metadata": {
    "id": "mPl5lGC_cjRa"
   },
   "outputs": [],
   "source": [
    "# Location of the dataset on the internet.\n",
    "data_url = \"https://github.com/Hvass-Labs/weather-denmark/raw/master/weather-denmark.tar.gz\"\n",
    "\n",
    "# Local directory where you want to download and save the dataset.\n",
    "data_dir = \"weather-data/\""
   ]
  },
  {
   "cell_type": "markdown",
   "metadata": {
    "id": "_fUv_1U7AGIS"
   },
   "source": [
    "Now, we can download the dataset into the chosen local directory"
   ]
  },
  {
   "cell_type": "code",
   "execution_count": 13,
   "metadata": {
    "id": "6P4iL6WfAGIT"
   },
   "outputs": [
    {
     "name": "stdout",
     "output_type": "stream",
     "text": [
      "- Download progress: 100.0%\n",
      "Download finished. Extracting files.\n",
      "Done.\n"
     ]
    }
   ],
   "source": [
    "download_and_extract(url=data_url, download_dir=data_dir)"
   ]
  },
  {
   "cell_type": "markdown",
   "metadata": {
    "id": "sLC9mO_RAGIY"
   },
   "source": [
    "**[TO DO]:** Check the local folder? In which format the dataset has been downloaded?\n",
    "\n",
    "**[TO DO]:** Select a format and load the dataset ."
   ]
  },
  {
   "cell_type": "code",
   "execution_count": 14,
   "metadata": {
    "id": "59A_u_4CAGIY"
   },
   "outputs": [
    {
     "data": {
      "text/html": [
       "<div>\n",
       "<style scoped>\n",
       "    .dataframe tbody tr th:only-of-type {\n",
       "        vertical-align: middle;\n",
       "    }\n",
       "\n",
       "    .dataframe tbody tr th {\n",
       "        vertical-align: top;\n",
       "    }\n",
       "\n",
       "    .dataframe thead th {\n",
       "        text-align: right;\n",
       "    }\n",
       "</style>\n",
       "<table border=\"1\" class=\"dataframe\">\n",
       "  <thead>\n",
       "    <tr style=\"text-align: right;\">\n",
       "      <th></th>\n",
       "      <th>City</th>\n",
       "      <th>DateTime</th>\n",
       "      <th>Temp</th>\n",
       "      <th>Pressure</th>\n",
       "      <th>WindSpeed</th>\n",
       "      <th>WindDir</th>\n",
       "    </tr>\n",
       "  </thead>\n",
       "  <tbody>\n",
       "    <tr>\n",
       "      <th>0</th>\n",
       "      <td>Aalborg</td>\n",
       "      <td>1980-03-01 00:00:00</td>\n",
       "      <td>5.0</td>\n",
       "      <td>1008.1</td>\n",
       "      <td>11.3</td>\n",
       "      <td>290.0</td>\n",
       "    </tr>\n",
       "    <tr>\n",
       "      <th>1</th>\n",
       "      <td>Aalborg</td>\n",
       "      <td>1980-03-01 00:20:00</td>\n",
       "      <td>4.0</td>\n",
       "      <td>NaN</td>\n",
       "      <td>9.2</td>\n",
       "      <td>270.0</td>\n",
       "    </tr>\n",
       "    <tr>\n",
       "      <th>2</th>\n",
       "      <td>Aalborg</td>\n",
       "      <td>1980-03-01 00:50:00</td>\n",
       "      <td>4.0</td>\n",
       "      <td>NaN</td>\n",
       "      <td>9.2</td>\n",
       "      <td>280.0</td>\n",
       "    </tr>\n",
       "    <tr>\n",
       "      <th>3</th>\n",
       "      <td>Aalborg</td>\n",
       "      <td>1980-03-01 01:20:00</td>\n",
       "      <td>4.0</td>\n",
       "      <td>NaN</td>\n",
       "      <td>9.2</td>\n",
       "      <td>280.0</td>\n",
       "    </tr>\n",
       "    <tr>\n",
       "      <th>4</th>\n",
       "      <td>Aalborg</td>\n",
       "      <td>1980-03-01 01:50:00</td>\n",
       "      <td>4.0</td>\n",
       "      <td>NaN</td>\n",
       "      <td>8.7</td>\n",
       "      <td>270.0</td>\n",
       "    </tr>\n",
       "    <tr>\n",
       "      <th>...</th>\n",
       "      <td>...</td>\n",
       "      <td>...</td>\n",
       "      <td>...</td>\n",
       "      <td>...</td>\n",
       "      <td>...</td>\n",
       "      <td>...</td>\n",
       "    </tr>\n",
       "    <tr>\n",
       "      <th>2918145</th>\n",
       "      <td>Roskilde</td>\n",
       "      <td>2018-03-01 22:20:00</td>\n",
       "      <td>-5.0</td>\n",
       "      <td>NaN</td>\n",
       "      <td>5.1</td>\n",
       "      <td>70.0</td>\n",
       "    </tr>\n",
       "    <tr>\n",
       "      <th>2918146</th>\n",
       "      <td>Roskilde</td>\n",
       "      <td>2018-03-01 22:50:00</td>\n",
       "      <td>-5.0</td>\n",
       "      <td>NaN</td>\n",
       "      <td>4.1</td>\n",
       "      <td>70.0</td>\n",
       "    </tr>\n",
       "    <tr>\n",
       "      <th>2918147</th>\n",
       "      <td>Roskilde</td>\n",
       "      <td>2018-03-01 23:00:00</td>\n",
       "      <td>-5.3</td>\n",
       "      <td>1018.6</td>\n",
       "      <td>4.1</td>\n",
       "      <td>60.0</td>\n",
       "    </tr>\n",
       "    <tr>\n",
       "      <th>2918148</th>\n",
       "      <td>Roskilde</td>\n",
       "      <td>2018-03-01 23:20:00</td>\n",
       "      <td>-5.0</td>\n",
       "      <td>NaN</td>\n",
       "      <td>3.6</td>\n",
       "      <td>60.0</td>\n",
       "    </tr>\n",
       "    <tr>\n",
       "      <th>2918149</th>\n",
       "      <td>Roskilde</td>\n",
       "      <td>2018-03-01 23:50:00</td>\n",
       "      <td>-5.0</td>\n",
       "      <td>NaN</td>\n",
       "      <td>3.6</td>\n",
       "      <td>60.0</td>\n",
       "    </tr>\n",
       "  </tbody>\n",
       "</table>\n",
       "<p>2918150 rows × 6 columns</p>\n",
       "</div>"
      ],
      "text/plain": [
       "             City             DateTime  Temp  Pressure  WindSpeed  WindDir\n",
       "0         Aalborg  1980-03-01 00:00:00   5.0    1008.1       11.3    290.0\n",
       "1         Aalborg  1980-03-01 00:20:00   4.0       NaN        9.2    270.0\n",
       "2         Aalborg  1980-03-01 00:50:00   4.0       NaN        9.2    280.0\n",
       "3         Aalborg  1980-03-01 01:20:00   4.0       NaN        9.2    280.0\n",
       "4         Aalborg  1980-03-01 01:50:00   4.0       NaN        8.7    270.0\n",
       "...           ...                  ...   ...       ...        ...      ...\n",
       "2918145  Roskilde  2018-03-01 22:20:00  -5.0       NaN        5.1     70.0\n",
       "2918146  Roskilde  2018-03-01 22:50:00  -5.0       NaN        4.1     70.0\n",
       "2918147  Roskilde  2018-03-01 23:00:00  -5.3    1018.6        4.1     60.0\n",
       "2918148  Roskilde  2018-03-01 23:20:00  -5.0       NaN        3.6     60.0\n",
       "2918149  Roskilde  2018-03-01 23:50:00  -5.0       NaN        3.6     60.0\n",
       "\n",
       "[2918150 rows x 6 columns]"
      ]
     },
     "execution_count": 14,
     "metadata": {},
     "output_type": "execute_result"
    }
   ],
   "source": [
    "### TODO\n",
    "weather_csv = pd.read_csv('./weather-data/weather-denmark.csv')\n",
    "weather_csv"
   ]
  },
  {
   "cell_type": "code",
   "execution_count": 15,
   "metadata": {
    "id": "36clsIOhq_CR"
   },
   "outputs": [
    {
     "data": {
      "text/html": [
       "<div>\n",
       "<style scoped>\n",
       "    .dataframe tbody tr th:only-of-type {\n",
       "        vertical-align: middle;\n",
       "    }\n",
       "\n",
       "    .dataframe tbody tr th {\n",
       "        vertical-align: top;\n",
       "    }\n",
       "\n",
       "    .dataframe thead th {\n",
       "        text-align: right;\n",
       "    }\n",
       "</style>\n",
       "<table border=\"1\" class=\"dataframe\">\n",
       "  <thead>\n",
       "    <tr style=\"text-align: right;\">\n",
       "      <th></th>\n",
       "      <th></th>\n",
       "      <th>Temp</th>\n",
       "      <th>Pressure</th>\n",
       "      <th>WindSpeed</th>\n",
       "      <th>WindDir</th>\n",
       "    </tr>\n",
       "    <tr>\n",
       "      <th>City</th>\n",
       "      <th>DateTime</th>\n",
       "      <th></th>\n",
       "      <th></th>\n",
       "      <th></th>\n",
       "      <th></th>\n",
       "    </tr>\n",
       "  </thead>\n",
       "  <tbody>\n",
       "    <tr>\n",
       "      <th rowspan=\"5\" valign=\"top\">Aalborg</th>\n",
       "      <th>1980-03-01 00:00:00</th>\n",
       "      <td>5.0</td>\n",
       "      <td>1008.1</td>\n",
       "      <td>11.3</td>\n",
       "      <td>290.0</td>\n",
       "    </tr>\n",
       "    <tr>\n",
       "      <th>1980-03-01 00:20:00</th>\n",
       "      <td>4.0</td>\n",
       "      <td>NaN</td>\n",
       "      <td>9.2</td>\n",
       "      <td>270.0</td>\n",
       "    </tr>\n",
       "    <tr>\n",
       "      <th>1980-03-01 00:50:00</th>\n",
       "      <td>4.0</td>\n",
       "      <td>NaN</td>\n",
       "      <td>9.2</td>\n",
       "      <td>280.0</td>\n",
       "    </tr>\n",
       "    <tr>\n",
       "      <th>1980-03-01 01:20:00</th>\n",
       "      <td>4.0</td>\n",
       "      <td>NaN</td>\n",
       "      <td>9.2</td>\n",
       "      <td>280.0</td>\n",
       "    </tr>\n",
       "    <tr>\n",
       "      <th>1980-03-01 01:50:00</th>\n",
       "      <td>4.0</td>\n",
       "      <td>NaN</td>\n",
       "      <td>8.7</td>\n",
       "      <td>270.0</td>\n",
       "    </tr>\n",
       "    <tr>\n",
       "      <th>...</th>\n",
       "      <th>...</th>\n",
       "      <td>...</td>\n",
       "      <td>...</td>\n",
       "      <td>...</td>\n",
       "      <td>...</td>\n",
       "    </tr>\n",
       "    <tr>\n",
       "      <th rowspan=\"5\" valign=\"top\">Roskilde</th>\n",
       "      <th>2018-03-01 22:20:00</th>\n",
       "      <td>-5.0</td>\n",
       "      <td>NaN</td>\n",
       "      <td>5.1</td>\n",
       "      <td>70.0</td>\n",
       "    </tr>\n",
       "    <tr>\n",
       "      <th>2018-03-01 22:50:00</th>\n",
       "      <td>-5.0</td>\n",
       "      <td>NaN</td>\n",
       "      <td>4.1</td>\n",
       "      <td>70.0</td>\n",
       "    </tr>\n",
       "    <tr>\n",
       "      <th>2018-03-01 23:00:00</th>\n",
       "      <td>-5.3</td>\n",
       "      <td>1018.6</td>\n",
       "      <td>4.1</td>\n",
       "      <td>60.0</td>\n",
       "    </tr>\n",
       "    <tr>\n",
       "      <th>2018-03-01 23:20:00</th>\n",
       "      <td>-5.0</td>\n",
       "      <td>NaN</td>\n",
       "      <td>3.6</td>\n",
       "      <td>60.0</td>\n",
       "    </tr>\n",
       "    <tr>\n",
       "      <th>2018-03-01 23:50:00</th>\n",
       "      <td>-5.0</td>\n",
       "      <td>NaN</td>\n",
       "      <td>3.6</td>\n",
       "      <td>60.0</td>\n",
       "    </tr>\n",
       "  </tbody>\n",
       "</table>\n",
       "<p>2918150 rows × 4 columns</p>\n",
       "</div>"
      ],
      "text/plain": [
       "                              Temp  Pressure  WindSpeed  WindDir\n",
       "City     DateTime                                               \n",
       "Aalborg  1980-03-01 00:00:00   5.0    1008.1       11.3    290.0\n",
       "         1980-03-01 00:20:00   4.0       NaN        9.2    270.0\n",
       "         1980-03-01 00:50:00   4.0       NaN        9.2    280.0\n",
       "         1980-03-01 01:20:00   4.0       NaN        9.2    280.0\n",
       "         1980-03-01 01:50:00   4.0       NaN        8.7    270.0\n",
       "...                            ...       ...        ...      ...\n",
       "Roskilde 2018-03-01 22:20:00  -5.0       NaN        5.1     70.0\n",
       "         2018-03-01 22:50:00  -5.0       NaN        4.1     70.0\n",
       "         2018-03-01 23:00:00  -5.3    1018.6        4.1     60.0\n",
       "         2018-03-01 23:20:00  -5.0       NaN        3.6     60.0\n",
       "         2018-03-01 23:50:00  -5.0       NaN        3.6     60.0\n",
       "\n",
       "[2918150 rows x 4 columns]"
      ]
     },
     "execution_count": 15,
     "metadata": {},
     "output_type": "execute_result"
    }
   ],
   "source": [
    "### TODO\n",
    "weather_pd = pd.read_pickle('./weather-data/weather-denmark.pkl')\n",
    "weather_pd"
   ]
  },
  {
   "cell_type": "markdown",
   "metadata": {
    "id": "MN4_qGC4AGIc"
   },
   "source": [
    "**More advanced solution for loading dataset**:\n",
    "\n",
    "In this case, the dataset was downloaded in two different formats. \n",
    "We can define the path where the files have been stored as follows:\n",
    "- **path_original_data_pickle( )** is the location of the original data in pickle format\n",
    "- **path_original_data_csv( )** is the location the original data in .csv"
   ]
  },
  {
   "cell_type": "code",
   "execution_count": 16,
   "metadata": {
    "id": "NO8jevNRAGIc"
   },
   "outputs": [],
   "source": [
    "def path_original_data_pickle():\n",
    "    return os.path.join(data_dir, \"weather-denmark.pkl\")\n",
    "\n",
    "def path_original_data_csv():\n",
    "    return os.path.join(data_dir, \"weather-denmark.csv\")"
   ]
  },
  {
   "cell_type": "markdown",
   "metadata": {
    "id": "KoNQaCyAAGIg"
   },
   "source": [
    "Now we can load the data in pickle format through the following function:"
   ]
  },
  {
   "cell_type": "code",
   "execution_count": 17,
   "metadata": {
    "id": "JHdwG7c6AGIh"
   },
   "outputs": [],
   "source": [
    "def load_original_data():\n",
    "    return pd.read_pickle(path_original_data_pickle())"
   ]
  },
  {
   "cell_type": "code",
   "execution_count": 18,
   "metadata": {
    "id": "0-XPffh3AGIj"
   },
   "outputs": [
    {
     "data": {
      "text/html": [
       "<div>\n",
       "<style scoped>\n",
       "    .dataframe tbody tr th:only-of-type {\n",
       "        vertical-align: middle;\n",
       "    }\n",
       "\n",
       "    .dataframe tbody tr th {\n",
       "        vertical-align: top;\n",
       "    }\n",
       "\n",
       "    .dataframe thead th {\n",
       "        text-align: right;\n",
       "    }\n",
       "</style>\n",
       "<table border=\"1\" class=\"dataframe\">\n",
       "  <thead>\n",
       "    <tr style=\"text-align: right;\">\n",
       "      <th></th>\n",
       "      <th></th>\n",
       "      <th>Temp</th>\n",
       "      <th>Pressure</th>\n",
       "      <th>WindSpeed</th>\n",
       "      <th>WindDir</th>\n",
       "    </tr>\n",
       "    <tr>\n",
       "      <th>City</th>\n",
       "      <th>DateTime</th>\n",
       "      <th></th>\n",
       "      <th></th>\n",
       "      <th></th>\n",
       "      <th></th>\n",
       "    </tr>\n",
       "  </thead>\n",
       "  <tbody>\n",
       "    <tr>\n",
       "      <th rowspan=\"5\" valign=\"top\">Aalborg</th>\n",
       "      <th>1980-03-01 00:00:00</th>\n",
       "      <td>5.0</td>\n",
       "      <td>1008.1</td>\n",
       "      <td>11.3</td>\n",
       "      <td>290.0</td>\n",
       "    </tr>\n",
       "    <tr>\n",
       "      <th>1980-03-01 00:20:00</th>\n",
       "      <td>4.0</td>\n",
       "      <td>NaN</td>\n",
       "      <td>9.2</td>\n",
       "      <td>270.0</td>\n",
       "    </tr>\n",
       "    <tr>\n",
       "      <th>1980-03-01 00:50:00</th>\n",
       "      <td>4.0</td>\n",
       "      <td>NaN</td>\n",
       "      <td>9.2</td>\n",
       "      <td>280.0</td>\n",
       "    </tr>\n",
       "    <tr>\n",
       "      <th>1980-03-01 01:20:00</th>\n",
       "      <td>4.0</td>\n",
       "      <td>NaN</td>\n",
       "      <td>9.2</td>\n",
       "      <td>280.0</td>\n",
       "    </tr>\n",
       "    <tr>\n",
       "      <th>1980-03-01 01:50:00</th>\n",
       "      <td>4.0</td>\n",
       "      <td>NaN</td>\n",
       "      <td>8.7</td>\n",
       "      <td>270.0</td>\n",
       "    </tr>\n",
       "    <tr>\n",
       "      <th>...</th>\n",
       "      <th>...</th>\n",
       "      <td>...</td>\n",
       "      <td>...</td>\n",
       "      <td>...</td>\n",
       "      <td>...</td>\n",
       "    </tr>\n",
       "    <tr>\n",
       "      <th rowspan=\"5\" valign=\"top\">Roskilde</th>\n",
       "      <th>2018-03-01 22:20:00</th>\n",
       "      <td>-5.0</td>\n",
       "      <td>NaN</td>\n",
       "      <td>5.1</td>\n",
       "      <td>70.0</td>\n",
       "    </tr>\n",
       "    <tr>\n",
       "      <th>2018-03-01 22:50:00</th>\n",
       "      <td>-5.0</td>\n",
       "      <td>NaN</td>\n",
       "      <td>4.1</td>\n",
       "      <td>70.0</td>\n",
       "    </tr>\n",
       "    <tr>\n",
       "      <th>2018-03-01 23:00:00</th>\n",
       "      <td>-5.3</td>\n",
       "      <td>1018.6</td>\n",
       "      <td>4.1</td>\n",
       "      <td>60.0</td>\n",
       "    </tr>\n",
       "    <tr>\n",
       "      <th>2018-03-01 23:20:00</th>\n",
       "      <td>-5.0</td>\n",
       "      <td>NaN</td>\n",
       "      <td>3.6</td>\n",
       "      <td>60.0</td>\n",
       "    </tr>\n",
       "    <tr>\n",
       "      <th>2018-03-01 23:50:00</th>\n",
       "      <td>-5.0</td>\n",
       "      <td>NaN</td>\n",
       "      <td>3.6</td>\n",
       "      <td>60.0</td>\n",
       "    </tr>\n",
       "  </tbody>\n",
       "</table>\n",
       "<p>2918150 rows × 4 columns</p>\n",
       "</div>"
      ],
      "text/plain": [
       "                              Temp  Pressure  WindSpeed  WindDir\n",
       "City     DateTime                                               \n",
       "Aalborg  1980-03-01 00:00:00   5.0    1008.1       11.3    290.0\n",
       "         1980-03-01 00:20:00   4.0       NaN        9.2    270.0\n",
       "         1980-03-01 00:50:00   4.0       NaN        9.2    280.0\n",
       "         1980-03-01 01:20:00   4.0       NaN        9.2    280.0\n",
       "         1980-03-01 01:50:00   4.0       NaN        8.7    270.0\n",
       "...                            ...       ...        ...      ...\n",
       "Roskilde 2018-03-01 22:20:00  -5.0       NaN        5.1     70.0\n",
       "         2018-03-01 22:50:00  -5.0       NaN        4.1     70.0\n",
       "         2018-03-01 23:00:00  -5.3    1018.6        4.1     60.0\n",
       "         2018-03-01 23:20:00  -5.0       NaN        3.6     60.0\n",
       "         2018-03-01 23:50:00  -5.0       NaN        3.6     60.0\n",
       "\n",
       "[2918150 rows x 4 columns]"
      ]
     },
     "execution_count": 18,
     "metadata": {},
     "output_type": "execute_result"
    }
   ],
   "source": [
    "df = load_original_data()\n",
    "df"
   ]
  },
  {
   "cell_type": "markdown",
   "metadata": {
    "id": "DMCJQr_SAGIm"
   },
   "source": [
    "### - Undestanding the data\n",
    "\n",
    "**_[TO DO]_**: Have a quick overview of the downloaded dataset. \n",
    "In particular, focus on:\n",
    "\n",
    "- Understanding the variables contained in the dataframe\n",
    "- Check the DateTime for 2 cities"
   ]
  },
  {
   "cell_type": "code",
   "execution_count": 19,
   "metadata": {
    "id": "-_dXNZFqd6rk"
   },
   "outputs": [
    {
     "name": "stdout",
     "output_type": "stream",
     "text": [
      "DatetimeIndex(['1980-03-01 00:00:00', '1980-03-01 00:20:00',\n",
      "               '1980-03-01 00:50:00', '1980-03-01 01:20:00',\n",
      "               '1980-03-01 01:50:00', '1980-03-01 02:20:00',\n",
      "               '1980-03-01 03:00:00', '1980-03-01 03:20:00',\n",
      "               '1980-03-01 04:00:00', '1980-03-01 04:01:00',\n",
      "               ...\n",
      "               '2018-03-01 21:20:00', '2018-03-01 21:50:00',\n",
      "               '2018-03-01 22:00:00', '2018-03-01 22:20:00',\n",
      "               '2018-03-01 22:30:00', '2018-03-01 22:50:00',\n",
      "               '2018-03-01 23:00:00', '2018-03-01 23:04:00',\n",
      "               '2018-03-01 23:21:00', '2018-03-01 23:50:00'],\n",
      "              dtype='datetime64[ns]', name='DateTime', length=759897, freq=None)\n",
      "DatetimeIndex(['1980-03-01 10:50:00', '1980-03-01 12:50:00',\n",
      "               '1980-03-01 13:50:00', '1980-03-01 15:50:00',\n",
      "               '1980-03-01 16:50:00', '1980-03-02 04:50:00',\n",
      "               '1980-03-02 06:50:00', '1980-03-02 07:50:00',\n",
      "               '1980-03-02 09:50:00', '1980-03-02 10:50:00',\n",
      "               ...\n",
      "               '2018-03-01 20:50:00', '2018-03-01 21:00:00',\n",
      "               '2018-03-01 21:20:00', '2018-03-01 21:50:00',\n",
      "               '2018-03-01 22:00:00', '2018-03-01 22:20:00',\n",
      "               '2018-03-01 22:50:00', '2018-03-01 23:00:00',\n",
      "               '2018-03-01 23:20:00', '2018-03-01 23:50:00'],\n",
      "              dtype='datetime64[ns]', name='DateTime', length=569852, freq=None)\n"
     ]
    }
   ],
   "source": [
    "### TODO\n",
    "print(df.xs('Aalborg').index)\n",
    "\n",
    "print(df.xs('Roskilde').index)"
   ]
  },
  {
   "cell_type": "markdown",
   "metadata": {
    "id": "ZYcAldYgeOmq"
   },
   "source": [
    "## 2.2 - Interacting with a server to query a subset of some data bank\n",
    "\n",
    "We will now learn how to query a data bank to retrieve only the relevant proportion data for a task. We will be using the World Bank Data API to access World's renewable energy consumtpion data. \n",
    "\n",
    "\n"
   ]
  },
  {
   "cell_type": "markdown",
   "metadata": {
    "id": "Pz0G-PnEllEE"
   },
   "source": [
    "You first need to install the World Bank API. In a terminal, run the following command:\n",
    "\n",
    "``>> pip install wbdata``\n",
    "\n"
   ]
  },
  {
   "cell_type": "code",
   "execution_count": 20,
   "metadata": {
    "colab": {
     "base_uri": "https://localhost:8080/",
     "height": 230
    },
    "executionInfo": {
     "elapsed": 5409,
     "status": "ok",
     "timestamp": 1603899607656,
     "user": {
      "displayName": "Sephora Madjiheurem",
      "photoUrl": "https://lh3.googleusercontent.com/a-/AOh14GgieP2Hh5x42748iuuSEnAl8BYCWGSmOzJ-ypgSaQ=s64",
      "userId": "05055971560005673839"
     },
     "user_tz": 0
    },
    "id": "pKP6WMKA3YTH",
    "outputId": "b822a83a-4f1f-4ef3-88e6-ada5dc8e99a5"
   },
   "outputs": [
    {
     "name": "stdout",
     "output_type": "stream",
     "text": [
      "Requirement already satisfied: wbdata in c:\\users\\ys1ong\\anaconda3\\envs\\elec0136\\lib\\site-packages (0.3.0)\n",
      "Requirement already satisfied: requests>=2.0 in c:\\users\\ys1ong\\anaconda3\\envs\\elec0136\\lib\\site-packages (from wbdata) (2.28.1)\n",
      "Requirement already satisfied: appdirs<2.0,>=1.4 in c:\\users\\ys1ong\\anaconda3\\envs\\elec0136\\lib\\site-packages (from wbdata) (1.4.4)\n",
      "Requirement already satisfied: decorator>=4.0 in c:\\users\\ys1ong\\anaconda3\\envs\\elec0136\\lib\\site-packages (from wbdata) (5.1.1)\n",
      "Requirement already satisfied: tabulate>=0.8.5 in c:\\users\\ys1ong\\anaconda3\\envs\\elec0136\\lib\\site-packages (from wbdata) (0.9.0)\n",
      "Requirement already satisfied: idna<4,>=2.5 in c:\\users\\ys1ong\\anaconda3\\envs\\elec0136\\lib\\site-packages (from requests>=2.0->wbdata) (3.4)\n",
      "Requirement already satisfied: certifi>=2017.4.17 in c:\\users\\ys1ong\\anaconda3\\envs\\elec0136\\lib\\site-packages (from requests>=2.0->wbdata) (2022.9.24)\n",
      "Requirement already satisfied: urllib3<1.27,>=1.21.1 in c:\\users\\ys1ong\\anaconda3\\envs\\elec0136\\lib\\site-packages (from requests>=2.0->wbdata) (1.26.12)\n",
      "Requirement already satisfied: charset-normalizer<3,>=2 in c:\\users\\ys1ong\\anaconda3\\envs\\elec0136\\lib\\site-packages (from requests>=2.0->wbdata) (2.1.1)\n",
      "Note: you may need to restart the kernel to use updated packages.\n"
     ]
    }
   ],
   "source": [
    "%pip install wbdata"
   ]
  },
  {
   "cell_type": "code",
   "execution_count": 21,
   "metadata": {
    "cellView": "form",
    "executionInfo": {
     "elapsed": 496,
     "status": "ok",
     "timestamp": 1603899609741,
     "user": {
      "displayName": "Sephora Madjiheurem",
      "photoUrl": "https://lh3.googleusercontent.com/a-/AOh14GgieP2Hh5x42748iuuSEnAl8BYCWGSmOzJ-ypgSaQ=s64",
      "userId": "05055971560005673839"
     },
     "user_tz": 0
    },
    "id": "TpOO5F8YkxyR"
   },
   "outputs": [],
   "source": [
    "#@title Imports\n",
    "import wbdata as wb\n",
    "import datetime"
   ]
  },
  {
   "cell_type": "markdown",
   "metadata": {
    "id": "7OJzq_rWmGa-"
   },
   "source": [
    "### - Query the World Bank\n",
    "\n",
    "* **_[TO DO]_**: Use the wbdata to retrieve renewable energy consumption data of all countries in 2015.\n",
    "\n",
    "Hint: [wbdata documentation](https://wbdata.readthedocs.io/en/stable/)"
   ]
  },
  {
   "cell_type": "code",
   "execution_count": 22,
   "metadata": {
    "id": "RXwfBzicmFO3"
   },
   "outputs": [
    {
     "data": {
      "text/plain": [
       "  id  name\n",
       "----  --------------------------------------------------------------------\n",
       "   1  Doing Business\n",
       "   2  World Development Indicators\n",
       "   3  Worldwide Governance Indicators\n",
       "   5  Subnational Malnutrition Database\n",
       "   6  International Debt Statistics\n",
       "  11  Africa Development Indicators\n",
       "  12  Education Statistics\n",
       "  13  Enterprise Surveys\n",
       "  14  Gender Statistics\n",
       "  15  Global Economic Monitor\n",
       "  16  Health Nutrition and Population Statistics\n",
       "  18  IDA Results Measurement System\n",
       "  19  Millennium Development Goals\n",
       "  20  Quarterly Public Sector Debt\n",
       "  22  Quarterly External Debt Statistics SDDS\n",
       "  23  Quarterly External Debt Statistics GDDS\n",
       "  25  Jobs\n",
       "  27  Global Economic Prospects\n",
       "  28  Global Financial Inclusion\n",
       "  29  The Atlas of Social Protection: Indicators of Resilience and Equity\n",
       "  30  Exporter Dynamics Database – Indicators at Country-Year Level\n",
       "  31  Country Policy and Institutional Assessment\n",
       "  32  Global Financial Development\n",
       "  33  G20 Financial Inclusion Indicators\n",
       "  34  Global Partnership for Education\n",
       "  35  Sustainable Energy for All\n",
       "  36  Statistical Capacity Indicators\n",
       "  37  LAC Equity Lab\n",
       "  38  Subnational Poverty\n",
       "  39  Health Nutrition and Population Statistics by Wealth Quintile\n",
       "  40  Population estimates and projections\n",
       "  41  Country Partnership Strategy for India (FY2013 - 17)\n",
       "  43  Adjusted Net Savings\n",
       "  45  Indonesia Database for Policy and Economic Research\n",
       "  46  Sustainable Development Goals\n",
       "  50  Subnational Population\n",
       "  54  Joint External Debt Hub\n",
       "  57  WDI Database Archives\n",
       "  58  Universal Health Coverage\n",
       "  59  Wealth Accounts\n",
       "  60  Economic Fitness\n",
       "  61  PPPs Regulatory Quality\n",
       "  62  International Comparison Program (ICP) 2011\n",
       "  63  Human Capital Index\n",
       "  64  Worldwide Bureaucracy Indicators\n",
       "  65  Health Equity and Financial Protection Indicators\n",
       "  66  Logistics Performance Index\n",
       "  67  PEFA 2011\n",
       "  68  PEFA 2016\n",
       "  69  Global Financial Inclusion and Consumer Protection Survey\n",
       "  70  Economic Fitness 2\n",
       "  71  International Comparison Program (ICP) 2005\n",
       "  73  Global Financial Inclusion and Consumer Protection Survey (Internal)\n",
       "  75  Environment, Social and Governance (ESG) Data\n",
       "  76  Remittance Prices Worldwide (Sending Countries)\n",
       "  77  Remittance Prices Worldwide (Receiving Countries)\n",
       "  78  ICP 2017\n",
       "  79  PEFA_GRPFM\n",
       "  80  Gender Disaggregated Labor Database (GDLD)\n",
       "  81  International Debt Statistics: DSSI\n",
       "  82  Global Public Procurement\n",
       "  83  Statistical Performance Indicators (SPI)\n",
       "  84  Education Policy\n",
       "  85  PEFA_2021_SNG\n",
       "  86  Global Jobs Indicators Database (JOIN)\n",
       "  87  Country Climate and Development Report (CCDR)\n",
       "  88  Food Prices for Nutrition"
      ]
     },
     "execution_count": 22,
     "metadata": {},
     "output_type": "execute_result"
    }
   ],
   "source": [
    "### TODO\n",
    "wb.get_source()"
   ]
  },
  {
   "cell_type": "markdown",
   "metadata": {
    "id": "0FB_UE-0nSeX"
   },
   "source": [
    "### - Undestanding the data\n",
    "\n",
    "* **_[TO DO]_**: Display different data points "
   ]
  },
  {
   "cell_type": "code",
   "execution_count": 23,
   "metadata": {
    "id": "TLsp11GKn8Ai"
   },
   "outputs": [
    {
     "data": {
      "text/plain": [
       "id                              name\n",
       "------------------------------  --------------------------------------------------------------------------\n",
       "1.1_ACCESS.ELECTRICITY.TOT      Access to electricity (% of total population)\n",
       "1.1_TOTAL.FINAL.ENERGY.CONSUM   Total final energy consumption (TFEC)\n",
       "1.2_ACCESS.ELECTRICITY.RURAL    Access to electricity (% of rural population)\n",
       "1.3_ACCESS.ELECTRICITY.URBAN    Access to electricity (% of urban population)\n",
       "2.1_ACCESS.CFT.TOT              Access to Clean Fuels and Technologies for cooking (% of total population)\n",
       "2.1_SHARE.TOTAL.RE.IN.TFEC      Renewable energy consumption(% in TFEC)\n",
       "3.1_RE.CONSUMPTION              Renewable energy consumption (TJ)\n",
       "4.1.1_TOTAL.ELECTRICITY.OUTPUT  Total electricity output (GWh)\n",
       "4.1.2_REN.ELECTRICITY.OUTPUT    Renewable energy electricity output (GWh)\n",
       "4.1_SHARE.RE.IN.ELECTRICITY     Renewable electricity (% in total electricity output)\n",
       "6.1_PRIMARY.ENERGY.INTENSITY    Energy intensity level of primary energy (MJ/$2005 PPP)"
      ]
     },
     "execution_count": 23,
     "metadata": {},
     "output_type": "execute_result"
    }
   ],
   "source": [
    "### TODO\n",
    "wb.get_indicator(source=35)"
   ]
  },
  {
   "cell_type": "markdown",
   "metadata": {
    "id": "o52Lnoq5olC9"
   },
   "source": [
    "# - Exporting the data\n",
    "* **_[TO DO]_**: Save the retrieved renewable energy consumption data of all countries in 2015 in one .xlsx file"
   ]
  },
  {
   "cell_type": "code",
   "execution_count": 24,
   "metadata": {
    "id": "-k6RXRXBpduC"
   },
   "outputs": [
    {
     "data": {
      "text/plain": [
       "id                          name\n",
       "--------------------------  ------------------------------------------------------------------\n",
       "2.1_SHARE.TOTAL.RE.IN.TFEC  Renewable energy consumption(% in TFEC)\n",
       "3.1_RE.CONSUMPTION          Renewable energy consumption (TJ)\n",
       "EG.FEC.RNEW.ZS              Renewable energy consumption (% of total final energy consumption)"
      ]
     },
     "execution_count": 24,
     "metadata": {},
     "output_type": "execute_result"
    }
   ],
   "source": [
    "### TODO\n",
    "wb.search_indicators('renewable energy consumption')"
   ]
  },
  {
   "cell_type": "code",
   "execution_count": 25,
   "metadata": {},
   "outputs": [],
   "source": [
    "web_data = wb.get_data(\"3.1_RE.CONSUMPTION\")\n",
    "#print(web_data)"
   ]
  },
  {
   "cell_type": "code",
   "execution_count": 26,
   "metadata": {},
   "outputs": [
    {
     "data": {
      "text/html": [
       "<div>\n",
       "<style scoped>\n",
       "    .dataframe tbody tr th:only-of-type {\n",
       "        vertical-align: middle;\n",
       "    }\n",
       "\n",
       "    .dataframe tbody tr th {\n",
       "        vertical-align: top;\n",
       "    }\n",
       "\n",
       "    .dataframe thead th {\n",
       "        text-align: right;\n",
       "    }\n",
       "</style>\n",
       "<table border=\"1\" class=\"dataframe\">\n",
       "  <thead>\n",
       "    <tr style=\"text-align: right;\">\n",
       "      <th></th>\n",
       "      <th>Renewable energy consumption (TJ))</th>\n",
       "    </tr>\n",
       "    <tr>\n",
       "      <th>country</th>\n",
       "      <th></th>\n",
       "    </tr>\n",
       "  </thead>\n",
       "  <tbody>\n",
       "    <tr>\n",
       "      <th>BES Islands</th>\n",
       "      <td>112.78860</td>\n",
       "    </tr>\n",
       "    <tr>\n",
       "      <th>Nauru</th>\n",
       "      <td>0.32988</td>\n",
       "    </tr>\n",
       "    <tr>\n",
       "      <th>Niue</th>\n",
       "      <td>16.63123</td>\n",
       "    </tr>\n",
       "    <tr>\n",
       "      <th>Wallis and Futuna</th>\n",
       "      <td>0.00000</td>\n",
       "    </tr>\n",
       "    <tr>\n",
       "      <th>Caucasian and Central Asia</th>\n",
       "      <td>NaN</td>\n",
       "    </tr>\n",
       "    <tr>\n",
       "      <th>...</th>\n",
       "      <td>...</td>\n",
       "    </tr>\n",
       "    <tr>\n",
       "      <th>West Bank and Gaza</th>\n",
       "      <td>6701.55000</td>\n",
       "    </tr>\n",
       "    <tr>\n",
       "      <th>Western Sahara</th>\n",
       "      <td>0.00000</td>\n",
       "    </tr>\n",
       "    <tr>\n",
       "      <th>Yemen, Rep.</th>\n",
       "      <td>2433.20100</td>\n",
       "    </tr>\n",
       "    <tr>\n",
       "      <th>Zambia</th>\n",
       "      <td>301679.80000</td>\n",
       "    </tr>\n",
       "    <tr>\n",
       "      <th>Zimbabwe</th>\n",
       "      <td>324422.60000</td>\n",
       "    </tr>\n",
       "  </tbody>\n",
       "</table>\n",
       "<p>259 rows × 1 columns</p>\n",
       "</div>"
      ],
      "text/plain": [
       "                            Renewable energy consumption (TJ))\n",
       "country                                                       \n",
       "BES Islands                                          112.78860\n",
       "Nauru                                                  0.32988\n",
       "Niue                                                  16.63123\n",
       "Wallis and Futuna                                      0.00000\n",
       "Caucasian and Central Asia                                 NaN\n",
       "...                                                        ...\n",
       "West Bank and Gaza                                  6701.55000\n",
       "Western Sahara                                         0.00000\n",
       "Yemen, Rep.                                         2433.20100\n",
       "Zambia                                            301679.80000\n",
       "Zimbabwe                                          324422.60000\n",
       "\n",
       "[259 rows x 1 columns]"
      ]
     },
     "execution_count": 26,
     "metadata": {},
     "output_type": "execute_result"
    }
   ],
   "source": [
    "import datetime\n",
    "\n",
    "indicators = {\"3.1_RE.CONSUMPTION\": \"Renewable energy consumption (TJ))\"}\n",
    "data_date = datetime.datetime(2015, 1, 1), datetime.datetime(2015, 12, 31)\n",
    "df = wb.get_dataframe(indicators, data_date = data_date)\n",
    "df"
   ]
  },
  {
   "cell_type": "code",
   "execution_count": 27,
   "metadata": {},
   "outputs": [
    {
     "name": "stdout",
     "output_type": "stream",
     "text": [
      "Requirement already satisfied: openpyxl in c:\\users\\ys1ong\\anaconda3\\envs\\elec0136\\lib\\site-packages (3.0.10)\n",
      "Requirement already satisfied: et-xmlfile in c:\\users\\ys1ong\\anaconda3\\envs\\elec0136\\lib\\site-packages (from openpyxl) (1.1.0)\n",
      "Note: you may need to restart the kernel to use updated packages.\n"
     ]
    }
   ],
   "source": [
    "%pip install openpyxl"
   ]
  },
  {
   "cell_type": "code",
   "execution_count": 28,
   "metadata": {},
   "outputs": [
    {
     "name": "stdout",
     "output_type": "stream",
     "text": [
      "Successfully create a new folder\n"
     ]
    }
   ],
   "source": [
    "import os\n",
    "\n",
    "def mkdir(path):\n",
    "    folder = os.path.exists(path)\n",
    "    \n",
    "    if not folder:\n",
    "        os.makedirs(path)\n",
    "        print(\"Successfully create a new folder\")\n",
    "        \n",
    "    else:\n",
    "        print(\"The folder already exists\")\n",
    "\n",
    "file = \"./renewable_energy_consumption\"\n",
    "mkdir(file)"
   ]
  },
  {
   "cell_type": "code",
   "execution_count": 29,
   "metadata": {},
   "outputs": [],
   "source": [
    "df.to_excel('./renewable_energy_consumption/retrieved_renewable_energy_cosumption_2015.xlsx')"
   ]
  },
  {
   "cell_type": "markdown",
   "metadata": {},
   "source": [
    "* **_[TO DO]_**: Save the renewable energy consumption data from 2006 to 2016 for each European country in individual .csv files (one per country)"
   ]
  },
  {
   "cell_type": "code",
   "execution_count": 30,
   "metadata": {},
   "outputs": [
    {
     "name": "stdout",
     "output_type": "stream",
     "text": [
      "id    name\n",
      "----  --------------------------------------------------------------------------------\n",
      "ABW   Aruba\n",
      "AFE   Africa Eastern and Southern\n",
      "AFG   Afghanistan\n",
      "AFR   Africa\n",
      "AFW   Africa Western and Central\n",
      "AGO   Angola\n",
      "ALB   Albania\n",
      "AND   Andorra\n",
      "ARB   Arab World\n",
      "ARE   United Arab Emirates\n",
      "ARG   Argentina\n",
      "ARM   Armenia\n",
      "ASM   American Samoa\n",
      "ATG   Antigua and Barbuda\n",
      "AUS   Australia\n",
      "AUT   Austria\n",
      "AZE   Azerbaijan\n",
      "BDI   Burundi\n",
      "BEA   East Asia & Pacific (IBRD-only countries)\n",
      "BEC   Europe & Central Asia (IBRD-only countries)\n",
      "BEL   Belgium\n",
      "BEN   Benin\n",
      "BFA   Burkina Faso\n",
      "BGD   Bangladesh\n",
      "BGR   Bulgaria\n",
      "BHI   IBRD countries classified as high income\n",
      "BHR   Bahrain\n",
      "BHS   Bahamas, The\n",
      "BIH   Bosnia and Herzegovina\n",
      "BLA   Latin America & the Caribbean (IBRD-only countries)\n",
      "BLR   Belarus\n",
      "BLZ   Belize\n",
      "BMN   Middle East & North Africa (IBRD-only countries)\n",
      "BMU   Bermuda\n",
      "BOL   Bolivia\n",
      "BRA   Brazil\n",
      "BRB   Barbados\n",
      "BRN   Brunei Darussalam\n",
      "BSS   Sub-Saharan Africa (IBRD-only countries)\n",
      "BTN   Bhutan\n",
      "BWA   Botswana\n",
      "CAA   Sub-Saharan Africa (IFC classification)\n",
      "CAF   Central African Republic\n",
      "CAN   Canada\n",
      "CEA   East Asia and the Pacific (IFC classification)\n",
      "CEB   Central Europe and the Baltics\n",
      "CEU   Europe and Central Asia (IFC classification)\n",
      "CHE   Switzerland\n",
      "CHI   Channel Islands\n",
      "CHL   Chile\n",
      "CHN   China\n",
      "CIV   Cote d'Ivoire\n",
      "CLA   Latin America and the Caribbean (IFC classification)\n",
      "CME   Middle East and North Africa (IFC classification)\n",
      "CMR   Cameroon\n",
      "COD   Congo, Dem. Rep.\n",
      "COG   Congo, Rep.\n",
      "COL   Colombia\n",
      "COM   Comoros\n",
      "CPV   Cabo Verde\n",
      "CRI   Costa Rica\n",
      "CSA   South Asia (IFC classification)\n",
      "CSS   Caribbean small states\n",
      "CUB   Cuba\n",
      "CUW   Curacao\n",
      "CYM   Cayman Islands\n",
      "CYP   Cyprus\n",
      "CZE   Czechia\n",
      "DEA   East Asia & Pacific (IDA-eligible countries)\n",
      "DEC   Europe & Central Asia (IDA-eligible countries)\n",
      "DEU   Germany\n",
      "DFS   IDA countries classified as Fragile Situations\n",
      "DJI   Djibouti\n",
      "DLA   Latin America & the Caribbean (IDA-eligible countries)\n",
      "DMA   Dominica\n",
      "DMN   Middle East & North Africa (IDA-eligible countries)\n",
      "DNF   IDA countries not classified as Fragile Situations\n",
      "DNK   Denmark\n",
      "DNS   IDA countries in Sub-Saharan Africa not classified as fragile situations\n",
      "DOM   Dominican Republic\n",
      "DSA   South Asia (IDA-eligible countries)\n",
      "DSF   IDA countries in Sub-Saharan Africa classified as fragile situations\n",
      "DSS   Sub-Saharan Africa (IDA-eligible countries)\n",
      "DZA   Algeria\n",
      "EAP   East Asia & Pacific (excluding high income)\n",
      "EAR   Early-demographic dividend\n",
      "EAS   East Asia & Pacific\n",
      "ECA   Europe & Central Asia (excluding high income)\n",
      "ECS   Europe & Central Asia\n",
      "ECU   Ecuador\n",
      "EGY   Egypt, Arab Rep.\n",
      "EMU   Euro area\n",
      "ERI   Eritrea\n",
      "ESP   Spain\n",
      "EST   Estonia\n",
      "ETH   Ethiopia\n",
      "EUU   European Union\n",
      "FCS   Fragile and conflict affected situations\n",
      "FIN   Finland\n",
      "FJI   Fiji\n",
      "FRA   France\n",
      "FRO   Faroe Islands\n",
      "FSM   Micronesia, Fed. Sts.\n",
      "FXS   IDA countries classified as fragile situations, excluding Sub-Saharan Africa\n",
      "GAB   Gabon\n",
      "GBR   United Kingdom\n",
      "GEO   Georgia\n",
      "GHA   Ghana\n",
      "GIB   Gibraltar\n",
      "GIN   Guinea\n",
      "GMB   Gambia, The\n",
      "GNB   Guinea-Bissau\n",
      "GNQ   Equatorial Guinea\n",
      "GRC   Greece\n",
      "GRD   Grenada\n",
      "GRL   Greenland\n",
      "GTM   Guatemala\n",
      "GUM   Guam\n",
      "GUY   Guyana\n",
      "HIC   High income\n",
      "HKG   Hong Kong SAR, China\n",
      "HND   Honduras\n",
      "HPC   Heavily indebted poor countries (HIPC)\n",
      "HRV   Croatia\n",
      "HTI   Haiti\n",
      "HUN   Hungary\n",
      "IBB   IBRD, including blend\n",
      "IBD   IBRD only\n",
      "IBT   IDA & IBRD total\n",
      "IDA   IDA total\n",
      "IDB   IDA blend\n",
      "IDN   Indonesia\n",
      "IDX   IDA only\n",
      "IMN   Isle of Man\n",
      "IND   India\n",
      "INX   Not classified\n",
      "IRL   Ireland\n",
      "IRN   Iran, Islamic Rep.\n",
      "IRQ   Iraq\n",
      "ISL   Iceland\n",
      "ISR   Israel\n",
      "ITA   Italy\n",
      "JAM   Jamaica\n",
      "JOR   Jordan\n",
      "JPN   Japan\n",
      "KAZ   Kazakhstan\n",
      "KEN   Kenya\n",
      "KGZ   Kyrgyz Republic\n",
      "KHM   Cambodia\n",
      "KIR   Kiribati\n",
      "KNA   St. Kitts and Nevis\n",
      "KOR   Korea, Rep.\n",
      "KWT   Kuwait\n",
      "LAC   Latin America & Caribbean (excluding high income)\n",
      "LAO   Lao PDR\n",
      "LBN   Lebanon\n",
      "LBR   Liberia\n",
      "LBY   Libya\n",
      "LCA   St. Lucia\n",
      "LCN   Latin America & Caribbean\n",
      "LDC   Least developed countries: UN classification\n",
      "LIC   Low income\n",
      "LIE   Liechtenstein\n",
      "LKA   Sri Lanka\n",
      "LMC   Lower middle income\n",
      "LMY   Low & middle income\n",
      "LSO   Lesotho\n",
      "LTE   Late-demographic dividend\n",
      "LTU   Lithuania\n",
      "LUX   Luxembourg\n",
      "LVA   Latvia\n",
      "MAC   Macao SAR, China\n",
      "MAF   St. Martin (French part)\n",
      "MAR   Morocco\n",
      "MCO   Monaco\n",
      "MDA   Moldova\n",
      "MDE   Middle East (developing only)\n",
      "MDG   Madagascar\n",
      "MDV   Maldives\n",
      "MEA   Middle East & North Africa\n",
      "MEX   Mexico\n",
      "MHL   Marshall Islands\n",
      "MIC   Middle income\n",
      "MKD   North Macedonia\n",
      "MLI   Mali\n",
      "MLT   Malta\n",
      "MMR   Myanmar\n",
      "MNA   Middle East & North Africa (excluding high income)\n",
      "MNE   Montenegro\n",
      "MNG   Mongolia\n",
      "MNP   Northern Mariana Islands\n",
      "MOZ   Mozambique\n",
      "MRT   Mauritania\n",
      "MUS   Mauritius\n",
      "MWI   Malawi\n",
      "MYS   Malaysia\n",
      "NAC   North America\n",
      "NAF   North Africa\n",
      "NAM   Namibia\n",
      "NCL   New Caledonia\n",
      "NER   Niger\n",
      "NGA   Nigeria\n",
      "NIC   Nicaragua\n",
      "NLD   Netherlands\n",
      "NOR   Norway\n",
      "NPL   Nepal\n",
      "NRS   Non-resource rich Sub-Saharan Africa countries\n",
      "NRU   Nauru\n",
      "NXS   IDA countries not classified as fragile situations, excluding Sub-Saharan Africa\n",
      "NZL   New Zealand\n",
      "OED   OECD members\n",
      "OMN   Oman\n",
      "OSS   Other small states\n",
      "PAK   Pakistan\n",
      "PAN   Panama\n",
      "PER   Peru\n",
      "PHL   Philippines\n",
      "PLW   Palau\n",
      "PNG   Papua New Guinea\n",
      "POL   Poland\n",
      "PRE   Pre-demographic dividend\n",
      "PRI   Puerto Rico\n",
      "PRK   Korea, Dem. People's Rep.\n",
      "PRT   Portugal\n",
      "PRY   Paraguay\n",
      "PSE   West Bank and Gaza\n",
      "PSS   Pacific island small states\n",
      "PST   Post-demographic dividend\n",
      "PYF   French Polynesia\n",
      "QAT   Qatar\n",
      "ROU   Romania\n",
      "RRS   Resource rich Sub-Saharan Africa countries\n",
      "RUS   Russian Federation\n",
      "RWA   Rwanda\n",
      "SAS   South Asia\n",
      "SAU   Saudi Arabia\n",
      "SDN   Sudan\n",
      "SEN   Senegal\n",
      "SGP   Singapore\n",
      "SLB   Solomon Islands\n",
      "SLE   Sierra Leone\n",
      "SLV   El Salvador\n",
      "SMR   San Marino\n",
      "SOM   Somalia\n",
      "SRB   Serbia\n",
      "SSA   Sub-Saharan Africa (excluding high income)\n",
      "SSD   South Sudan\n",
      "SSF   Sub-Saharan Africa\n",
      "SST   Small states\n",
      "STP   Sao Tome and Principe\n",
      "SUR   Suriname\n",
      "SVK   Slovak Republic\n",
      "SVN   Slovenia\n",
      "SWE   Sweden\n",
      "SWZ   Eswatini\n",
      "SXM   Sint Maarten (Dutch part)\n",
      "SXZ   Sub-Saharan Africa excluding South Africa\n",
      "SYC   Seychelles\n",
      "SYR   Syrian Arab Republic\n",
      "TCA   Turks and Caicos Islands\n",
      "TCD   Chad\n",
      "TEA   East Asia & Pacific (IDA & IBRD countries)\n",
      "TEC   Europe & Central Asia (IDA & IBRD countries)\n",
      "TGO   Togo\n",
      "THA   Thailand\n",
      "TJK   Tajikistan\n",
      "TKM   Turkmenistan\n",
      "TLA   Latin America & the Caribbean (IDA & IBRD countries)\n",
      "TLS   Timor-Leste\n",
      "TMN   Middle East & North Africa (IDA & IBRD countries)\n",
      "TON   Tonga\n",
      "TSA   South Asia (IDA & IBRD)\n",
      "TSS   Sub-Saharan Africa (IDA & IBRD countries)\n",
      "TTO   Trinidad and Tobago\n",
      "TUN   Tunisia\n",
      "TUR   Turkiye\n",
      "TUV   Tuvalu\n",
      "TWN   Taiwan, China\n",
      "TZA   Tanzania\n",
      "UGA   Uganda\n",
      "UKR   Ukraine\n",
      "UMC   Upper middle income\n",
      "URY   Uruguay\n",
      "USA   United States\n",
      "UZB   Uzbekistan\n",
      "VCT   St. Vincent and the Grenadines\n",
      "VEN   Venezuela, RB\n",
      "VGB   British Virgin Islands\n",
      "VIR   Virgin Islands (U.S.)\n",
      "VNM   Vietnam\n",
      "VUT   Vanuatu\n",
      "WLD   World\n",
      "WSM   Samoa\n",
      "XKX   Kosovo\n",
      "XZN   Sub-Saharan Africa excluding South Africa and Nigeria\n",
      "YEM   Yemen, Rep.\n",
      "ZAF   South Africa\n",
      "ZMB   Zambia\n",
      "ZWE   Zimbabwe\n",
      "299\n"
     ]
    }
   ],
   "source": [
    "### TODO\n",
    "wb_countries = wb.get_country()  \n",
    "print(wb_countries)\n",
    "print(len(wb_countries))"
   ]
  },
  {
   "cell_type": "code",
   "execution_count": 31,
   "metadata": {},
   "outputs": [
    {
     "data": {
      "text/plain": [
       "{'id': 'XKX',\n",
       " 'iso2Code': 'XK',\n",
       " 'name': 'Kosovo',\n",
       " 'region': {'id': 'ECS', 'iso2code': 'Z7', 'value': 'Europe & Central Asia'},\n",
       " 'adminregion': {'id': 'ECA',\n",
       "  'iso2code': '7E',\n",
       "  'value': 'Europe & Central Asia (excluding high income)'},\n",
       " 'incomeLevel': {'id': 'UMC',\n",
       "  'iso2code': 'XT',\n",
       "  'value': 'Upper middle income'},\n",
       " 'lendingType': {'id': 'IDX', 'iso2code': 'XI', 'value': 'IDA'},\n",
       " 'capitalCity': 'Pristina',\n",
       " 'longitude': '20.926',\n",
       " 'latitude': '42.565'}"
      ]
     },
     "execution_count": 31,
     "metadata": {},
     "output_type": "execute_result"
    }
   ],
   "source": [
    "wb_countries[293]"
   ]
  },
  {
   "cell_type": "code",
   "execution_count": 32,
   "metadata": {},
   "outputs": [
    {
     "data": {
      "text/html": [
       "<div>\n",
       "<style scoped>\n",
       "    .dataframe tbody tr th:only-of-type {\n",
       "        vertical-align: middle;\n",
       "    }\n",
       "\n",
       "    .dataframe tbody tr th {\n",
       "        vertical-align: top;\n",
       "    }\n",
       "\n",
       "    .dataframe thead th {\n",
       "        text-align: right;\n",
       "    }\n",
       "</style>\n",
       "<table border=\"1\" class=\"dataframe\">\n",
       "  <thead>\n",
       "    <tr style=\"text-align: right;\">\n",
       "      <th></th>\n",
       "      <th>Renewable energy consumption (TJ))</th>\n",
       "    </tr>\n",
       "    <tr>\n",
       "      <th>date</th>\n",
       "      <th></th>\n",
       "    </tr>\n",
       "  </thead>\n",
       "  <tbody>\n",
       "    <tr>\n",
       "      <th>2016</th>\n",
       "      <td>NaN</td>\n",
       "    </tr>\n",
       "    <tr>\n",
       "      <th>2015</th>\n",
       "      <td>11421.650</td>\n",
       "    </tr>\n",
       "    <tr>\n",
       "      <th>2014</th>\n",
       "      <td>11006.460</td>\n",
       "    </tr>\n",
       "    <tr>\n",
       "      <th>2013</th>\n",
       "      <td>10745.580</td>\n",
       "    </tr>\n",
       "    <tr>\n",
       "      <th>2012</th>\n",
       "      <td>10631.140</td>\n",
       "    </tr>\n",
       "    <tr>\n",
       "      <th>2011</th>\n",
       "      <td>10436.990</td>\n",
       "    </tr>\n",
       "    <tr>\n",
       "      <th>2010</th>\n",
       "      <td>10352.040</td>\n",
       "    </tr>\n",
       "    <tr>\n",
       "      <th>2009</th>\n",
       "      <td>10174.590</td>\n",
       "    </tr>\n",
       "    <tr>\n",
       "      <th>2008</th>\n",
       "      <td>9983.425</td>\n",
       "    </tr>\n",
       "    <tr>\n",
       "      <th>2007</th>\n",
       "      <td>9315.328</td>\n",
       "    </tr>\n",
       "    <tr>\n",
       "      <th>2006</th>\n",
       "      <td>9333.067</td>\n",
       "    </tr>\n",
       "  </tbody>\n",
       "</table>\n",
       "</div>"
      ],
      "text/plain": [
       "      Renewable energy consumption (TJ))\n",
       "date                                    \n",
       "2016                                 NaN\n",
       "2015                           11421.650\n",
       "2014                           11006.460\n",
       "2013                           10745.580\n",
       "2012                           10631.140\n",
       "2011                           10436.990\n",
       "2010                           10352.040\n",
       "2009                           10174.590\n",
       "2008                            9983.425\n",
       "2007                            9315.328\n",
       "2006                            9333.067"
      ]
     },
     "execution_count": 32,
     "metadata": {},
     "output_type": "execute_result"
    }
   ],
   "source": [
    "indicators = {\"3.1_RE.CONSUMPTION\": \"Renewable energy consumption (TJ))\"}\n",
    "data_date = datetime.datetime(2006, 1, 1), datetime.datetime(2016, 12, 31)\n",
    "energy_europe_2006_2016 = wb.get_dataframe(indicators, data_date = data_date, country = 'XKX')\n",
    "energy_europe_2006_2016"
   ]
  },
  {
   "cell_type": "code",
   "execution_count": 33,
   "metadata": {},
   "outputs": [
    {
     "name": "stdout",
     "output_type": "stream",
     "text": [
      "['ALB', 'AND', 'ARM', 'AUT', 'AZE', 'BEL', 'BGR', 'BIH', 'BLR', 'CHE', 'CHI', 'CYP', 'CZE', 'DEU', 'DNK', 'ESP', 'EST', 'FIN', 'FRA', 'FRO', 'GBR', 'GEO', 'GIB', 'GRC', 'GRL', 'HRV', 'HUN', 'IMN', 'IRL', 'ISL', 'ITA', 'KAZ', 'KGZ', 'LIE', 'LTU', 'LUX', 'LVA', 'MCO', 'MDA', 'MKD', 'MNE', 'NLD', 'NOR', 'POL', 'PRT', 'ROU', 'RUS', 'SMR', 'SRB', 'SVK', 'SVN', 'SWE', 'TJK', 'TKM', 'TUR', 'UKR', 'UZB', 'XKX']\n"
     ]
    }
   ],
   "source": [
    "europe_country = []\n",
    "for i in wb_countries:\n",
    "    if i[\"region\"][\"value\"] == \"Europe & Central Asia\":\n",
    "        europe_country.append(i[\"id\"])\n",
    "print(europe_country)"
   ]
  },
  {
   "cell_type": "code",
   "execution_count": 34,
   "metadata": {},
   "outputs": [
    {
     "name": "stdout",
     "output_type": "stream",
     "text": [
      "Successfully create a new folder\n"
     ]
    }
   ],
   "source": [
    "def mkdir(path):\n",
    "    folder = os.path.exists(path)\n",
    "    \n",
    "    if not folder:\n",
    "        os.makedirs(path)\n",
    "        print(\"Successfully create a new folder\")\n",
    "        \n",
    "    else:\n",
    "        print(\"The folder already exists\")\n",
    "\n",
    "file = \"./renewable_energy_consumption_europe\"\n",
    "mkdir(file)"
   ]
  },
  {
   "cell_type": "code",
   "execution_count": 35,
   "metadata": {},
   "outputs": [],
   "source": [
    "indicators = {\"3.1_RE.CONSUMPTION\": \"Renewable energy consumption (TJ))\"}\n",
    "data_date = datetime.datetime(2006, 1, 1), datetime.datetime(2016, 12, 31)\n",
    "\n",
    "for wb_countries in europe_country:\n",
    "    energy_europe_2006_2016 = wb.get_dataframe(indicators, data_date = data_date, country = wb_countries)\n",
    "    energy_europe_2006_2016.to_csv('./renewable_energy_consumption_europe/' + wb_countries + '_2006_2016.csv')"
   ]
  },
  {
   "cell_type": "code",
   "execution_count": null,
   "metadata": {},
   "outputs": [],
   "source": []
  }
 ],
 "metadata": {
  "colab": {
   "collapsed_sections": [],
   "name": "LAB1.ipynb",
   "provenance": [
    {
     "file_id": "1HXjyjuj11ovY200lbVrY4ksJrv4eEphn",
     "timestamp": 1603281631972
    }
   ]
  },
  "kernelspec": {
   "display_name": "Python 3 (ipykernel)",
   "language": "python",
   "name": "python3"
  },
  "language_info": {
   "codemirror_mode": {
    "name": "ipython",
    "version": 3
   },
   "file_extension": ".py",
   "mimetype": "text/x-python",
   "name": "python",
   "nbconvert_exporter": "python",
   "pygments_lexer": "ipython3",
   "version": "3.9.13"
  }
 },
 "nbformat": 4,
 "nbformat_minor": 4
}
